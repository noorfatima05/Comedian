{
 "cells": [
  {
   "cell_type": "code",
   "execution_count": null,
   "id": "c77a7782",
   "metadata": {},
   "outputs": [],
   "source": [
    "import numpy as np\n",
    "import pandas as pd "
   ]
  },
  {
   "cell_type": "code",
   "execution_count": null,
   "id": "42bf96aa",
   "metadata": {},
   "outputs": [],
   "source": [
    "df = pd.read_csv('comdeian.csv')"
   ]
  },
  {
   "cell_type": "code",
   "execution_count": null,
   "id": "82d0b28e",
   "metadata": {},
   "outputs": [],
   "source": [
    "df"
   ]
  },
  {
   "cell_type": "code",
   "execution_count": null,
   "id": "4508842c",
   "metadata": {},
   "outputs": [],
   "source": [
    "d = {'USA':0, 'UK':1, 'N':2}"
   ]
  },
  {
   "cell_type": "code",
   "execution_count": null,
   "id": "c14dfc19",
   "metadata": {},
   "outputs": [],
   "source": [
    "df['Nationality'] = df['Nationality'].map(d)\n",
    "print(df)"
   ]
  },
  {
   "cell_type": "code",
   "execution_count": null,
   "id": "d121a8f9",
   "metadata": {},
   "outputs": [],
   "source": [
    "d1 ={'YES':1, 'NO':0}"
   ]
  },
  {
   "cell_type": "code",
   "execution_count": null,
   "id": "f0f1089c",
   "metadata": {},
   "outputs": [],
   "source": [
    "df['Go'] = df['Go'].map(d1)\n",
    "print(df)"
   ]
  },
  {
   "cell_type": "code",
   "execution_count": null,
   "id": "b56a5083",
   "metadata": {},
   "outputs": [],
   "source": [
    "featurs = ['Age', 'Experience', 'Rank', 'Nationality']"
   ]
  },
  {
   "cell_type": "code",
   "execution_count": null,
   "id": "33c4a6c2",
   "metadata": {},
   "outputs": [],
   "source": [
    "x = df[featurs]\n",
    "y = df['Go']"
   ]
  },
  {
   "cell_type": "code",
   "execution_count": null,
   "id": "f1399827",
   "metadata": {},
   "outputs": [],
   "source": [
    "x"
   ]
  },
  {
   "cell_type": "code",
   "execution_count": null,
   "id": "7b52ceca",
   "metadata": {},
   "outputs": [],
   "source": [
    "y"
   ]
  },
  {
   "cell_type": "code",
   "execution_count": null,
   "id": "66fdc624",
   "metadata": {},
   "outputs": [],
   "source": [
    "from sklearn import tree\n",
    "from sklearn.tree import DecisionTreeClassifier\n",
    "import matplotlib.pyplot as plt"
   ]
  },
  {
   "cell_type": "code",
   "execution_count": null,
   "id": "31ef6ca8",
   "metadata": {},
   "outputs": [],
   "source": [
    "dtree = DecisionTreeClassifier()\n",
    "dtree = dtree.fit(X, y)\n",
    "\n",
    "tree.plot_tree(dtree, feature_names=featurs)"
   ]
  },
  {
   "cell_type": "code",
   "execution_count": null,
   "id": "3e136a7e",
   "metadata": {},
   "outputs": [],
   "source": [
    "from sklearn.tree import DecisionTreeClassifier\n",
    "from sklearn.datasets import load_iris\n",
    "from sklearn.model_selection import train_test_split\n",
    "from sklearn.metrics import accuracy_score\n",
    "\n",
    "# Load the iris dataset\n",
    "iris = load_iris()\n",
    "X = iris.data\n",
    "y = iris.target\n",
    "\n",
    "# Split the data into training and testing sets\n",
    "X_train, X_test, y_train, y_test = train_test_split(X, y, test_size=0.2, random_state=42)\n",
    "\n",
    "# Initialize the DecisionTreeClassifier\n",
    "tree1 = DecisionTreeClassifier()\n",
    "\n",
    "# Fit the classifier to the training data\n",
    "tree1.fit(X_train, y_train)\n",
    "\n",
    "# Make predictions on the testing data\n",
    "predictions = tree1.predict(X_test)\n",
    "\n",
    "# Calculate accuracy\n",
    "accuracy = accuracy_score(y_test, predictions)\n",
    "print(\"Accuracy:\", accuracy)\n"
   ]
  },
  {
   "cell_type": "code",
   "execution_count": null,
   "id": "9b299535",
   "metadata": {},
   "outputs": [],
   "source": []
  }
 ],
 "metadata": {
  "kernelspec": {
   "display_name": "Python 3 (ipykernel)",
   "language": "python",
   "name": "python3"
  },
  "language_info": {
   "codemirror_mode": {
    "name": "ipython",
    "version": 3
   },
   "file_extension": ".py",
   "mimetype": "text/x-python",
   "name": "python",
   "nbconvert_exporter": "python",
   "pygments_lexer": "ipython3",
   "version": "3.11.4"
  }
 },
 "nbformat": 4,
 "nbformat_minor": 5
}
